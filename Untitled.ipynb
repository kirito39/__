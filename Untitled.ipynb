{
 "cells": [
  {
   "cell_type": "code",
   "execution_count": 1,
   "metadata": {},
   "outputs": [],
   "source": [
    "import os\n",
    "from collections import Counter\n",
    "import math\n",
    "import matplotlib.pyplot as plt\n",
    "import pandas as pd\n",
    "import seaborn as sn"
   ]
  },
  {
   "cell_type": "code",
   "execution_count": 9,
   "metadata": {},
   "outputs": [],
   "source": [
    "ham=[]\n",
    "spam=[]\n",
    "for name in os.listdir(\"enron6/ham\"):\n",
    "    ham.append(name)\n",
    "for name in os.listdir(\"enron6/spam\"):\n",
    "    spam.append(name)\n",
    "spam_len=len(spam)\n",
    "ham_len=len(ham)\n",
    "tot=ham_len+spam_len\n",
    "prior_for_spam=spam_len/tot\n",
    "prior_for_ham=ham_len/tot\n",
    "ham_count={}\n",
    "spam_count={}\n",
    "for file_n in os.listdir(\"./enron6//ham\"):\n",
    "    file=open('./enron6/ham//'+file_n,errors='ignore')\n",
    "    wordCount=Counter(file.read().split())\n",
    "    for item in wordCount:\n",
    "        if item in ham_count:\n",
    "            ham_count[item][0]+=wordCount[item]\n",
    "        else:\n",
    "            ham_count[item]=[]\n",
    "            ham_count[item].append(wordCount[item])\n",
    "for file_n in os.listdir(\"./enron6//spam\"):\n",
    "    file=open('./enron6/spam//'+file_n,errors='ignore')\n",
    "    wordCount=Counter(file.read().split())\n",
    "    for item in wordCount:\n",
    "        if item in spam_count:\n",
    "            spam_count[item][0]+=wordCount[item]\n",
    "        else:\n",
    "            spam_count[item]=[]\n",
    "            spam_count[item].append(wordCount[item])\n",
    "total_spam=0\n",
    "total_ham=0\n",
    "for item in spam_count:\n",
    "    total_spam+=spam_count[item][0]\n",
    "for item in ham_count:\n",
    "    total_ham+=ham_count[item][0]\n",
    "spam_count_2={}\n",
    "ham_count_2={}\n",
    "for item in spam_count:\n",
    "    spam_count_2[item]=[]\n",
    "    spam_count_2[item].append((spam_count[item][0]+1)/(total_spam+len(spam_count)))\n",
    "for item in ham_count:\n",
    "    ham_count_2[item]=[]\n",
    "    ham_count_2[item].append((ham_count[item][0]+1)/(total_ham+len(ham_count)))"
   ]
  },
  {
   "cell_type": "code",
   "execution_count": 10,
   "metadata": {},
   "outputs": [],
   "source": [
    "def testing(item):\n",
    "    file=open(item,errors='ignore')\n",
    "    wordCount=Counter(file.read().split())\n",
    "    score_for_ham=math.log(prior_for_ham)\n",
    "    score_for_spam=math.log(prior_for_spam)\n",
    "    for item_2 in wordCount:\n",
    "        if item_2 in spam_count:\n",
    "            score_for_spam+=math.log(spam_count_2[item_2][0])\n",
    "        if item_2 in ham_count:\n",
    "            score_for_ham+=math.log(ham_count_2[item_2][0])\n",
    "        if(score_for_ham>score_for_spam):\n",
    "            return 1\n",
    "        else:\n",
    "            return 0"
   ]
  },
  {
   "cell_type": "code",
   "execution_count": 13,
   "metadata": {},
   "outputs": [],
   "source": [
    "TN=0\n",
    "TP=0\n",
    "FP=0\n",
    "FN=0\n",
    "for name in os.listdir(\"./enron6//ham\"):\n",
    "    if testing(\"enron6/ham//\"+name)==1:\n",
    "        TP+=1\n",
    "    else:\n",
    "        FN+=1\n",
    "for name in os.listdir(\"./enron6//spam\"):\n",
    "    if testing(\"enron6/spam//\"+name)==0:\n",
    "        TN+=1\n",
    "    else:\n",
    "        FP+=1\n"
   ]
  },
  {
   "cell_type": "code",
   "execution_count": 14,
   "metadata": {},
   "outputs": [
    {
     "data": {
      "text/plain": [
       "75.85974376264329"
      ]
     },
     "execution_count": 14,
     "metadata": {},
     "output_type": "execute_result"
    }
   ],
   "source": [
    "accuracy = (TP + TN)/(TP+TN+FP+FN) \n",
    "accuracy*100"
   ]
  },
  {
   "cell_type": "code",
   "execution_count": null,
   "metadata": {},
   "outputs": [],
   "source": []
  }
 ],
 "metadata": {
  "kernelspec": {
   "display_name": "Python 3",
   "language": "python",
   "name": "python3"
  },
  "language_info": {
   "codemirror_mode": {
    "name": "ipython",
    "version": 3
   },
   "file_extension": ".py",
   "mimetype": "text/x-python",
   "name": "python",
   "nbconvert_exporter": "python",
   "pygments_lexer": "ipython3",
   "version": "3.6.5"
  }
 },
 "nbformat": 4,
 "nbformat_minor": 2
}
